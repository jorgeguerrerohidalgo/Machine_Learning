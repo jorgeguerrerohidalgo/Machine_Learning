{
 "cells": [
  {
   "cell_type": "markdown",
   "id": "a5272271",
   "metadata": {},
   "source": [
    "# Desafío - Expansiones basales\n",
    "- Para realizar este desafío debes haber estudiado previamente todo el material disponibilizado correspondiente a la unidad.\n",
    "- Una vez terminado el desafío, comprime la carpeta que contiene el desarrollo de los requerimientos solicitados y sube el .zip en el LMS.\n",
    "- Desarrollo desafío:\n",
    "    - El desafío se debe desarrollar de manera Individual.\n",
    "    - Para la realización del desafío necesitarás apoyarte del archivo Apoyo Desafío - Expansiones basales."
   ]
  },
  {
   "cell_type": "markdown",
   "id": "c6dc6dfb",
   "metadata": {},
   "source": [
    "## Descripción\n",
    "\n",
    "- Una aplicación interesante de los modelos predictivos es poder predecir propiedades de materiales compuestos a partir de diferentes combinaciones en el proceso y creación de estos.\n",
    "- Para este desafío trabajaremos con un dataset que contiene diferentes medidas de materiales con los que se hace la mezcla de concreto.\n",
    "- Nuestra tarea será utilizar estas medidas para predecir la capacidad de resistir fuerzas compresivas de vigas de concreto, a esta capacidad de soportar fuerzas que buscan reducir la superficie o volumen de un cuerpo se le conoce como fuerza compresiva."
   ]
  },
  {
   "cell_type": "markdown",
   "id": "ef2b85e7",
   "metadata": {},
   "source": [
    "### Ejercicio 1: Preparar el ambiente de trabajo\n",
    "- Importe los módulos clásicos del trabajo en ciencia de datos.\n",
    "- El archivo tiene el nombre `compresive_strength_concrete.csv`. Importe y genere estadísticas descriptivas."
   ]
  },
  {
   "cell_type": "code",
   "execution_count": 1,
   "id": "c1d9faa2",
   "metadata": {},
   "outputs": [],
   "source": [
    "# Utilizar esta celda para importar los módulos y el set de datos"
   ]
  },
  {
   "cell_type": "code",
   "execution_count": 2,
   "id": "68fb66c3",
   "metadata": {},
   "outputs": [],
   "source": [
    "# Utilizar esta celda para explorar estadísticas descriptivas. Tip: Usar describe()"
   ]
  },
  {
   "cell_type": "markdown",
   "id": "0ea33a3e",
   "metadata": {},
   "source": [
    "### Ejercicio 2: Descripción\n",
    "- El vector objetivo tiene el nombre de `Concrete compressive strength(MPa, megapascals) `\n",
    "- Los nombres de las variables son muy poco amigables, dado que contienen espacios, paréntesis y otros elementos difíciles de referenciar. Se sugiere (pero no se obliga) renombrar las variables o acceder a éstas mediante notación de índice `iloc`.\n",
    "- Inspeccione el tipo de datos de la base de datos, fijándose en su naturaleza y distribución. Decide si es necesario normalizarlos/escalarlos."
   ]
  },
  {
   "cell_type": "code",
   "execution_count": 3,
   "id": "f289444c",
   "metadata": {},
   "outputs": [],
   "source": [
    "# Utilizar esta celda para renombrar las variables si se decide hacerlo"
   ]
  },
  {
   "cell_type": "code",
   "execution_count": 4,
   "id": "925c41a5",
   "metadata": {},
   "outputs": [],
   "source": [
    "# Utilizar esta celda para inspeccionar el tipo de dato. Tip: Usar df.info()"
   ]
  },
  {
   "cell_type": "code",
   "execution_count": 5,
   "id": "60534ee4",
   "metadata": {},
   "outputs": [],
   "source": [
    "# Utilizar esta celda para explorar distribución. Tip: Usar df.hist() cambiando figsize"
   ]
  },
  {
   "cell_type": "markdown",
   "id": "6aac8720",
   "metadata": {},
   "source": [
    "### Ejercicio 3: Modelo\n",
    "- En base al vector objetivo, decida el mejor modelo e importe con `pygam`. Condicional a esto, importe las métricas de desempeño asociadas."
   ]
  },
  {
   "cell_type": "code",
   "execution_count": 6,
   "id": "f567fd8a",
   "metadata": {},
   "outputs": [],
   "source": [
    "# Utilizar esta celda para importar el modelo y las métricas"
   ]
  },
  {
   "cell_type": "markdown",
   "id": "9c3eed48",
   "metadata": {},
   "source": [
    "- Genere conjuntos de entrenamiento y validación."
   ]
  },
  {
   "cell_type": "code",
   "execution_count": 7,
   "id": "30bfd8af",
   "metadata": {},
   "outputs": [],
   "source": [
    "# Utilizar esta celda para generar los subconjuntos de muestras, y estandarizar los datos"
   ]
  },
  {
   "cell_type": "markdown",
   "id": "e0c1e763",
   "metadata": {},
   "source": [
    "- Genere un primer modelo sin implementar la función gridsearch. Reporte el hiper parámetro lam así como las métricas de desempeño asociadas."
   ]
  },
  {
   "cell_type": "code",
   "execution_count": 8,
   "id": "969b9d32",
   "metadata": {},
   "outputs": [],
   "source": [
    "# Utilizar esta celda para generar el modelo y reportar lam y métricas"
   ]
  },
  {
   "cell_type": "markdown",
   "id": "450d73b0",
   "metadata": {},
   "source": [
    "- Genere un segundo modelo implementando gridsearch en lambda con un logspace entre -3 y 3. Comente sobre el mejor hiper parámetro y sus métricas de desempeño."
   ]
  },
  {
   "cell_type": "code",
   "execution_count": 9,
   "id": "f1a2ab65",
   "metadata": {},
   "outputs": [],
   "source": [
    "# Utilizar esta celda para generar el segundo modelo y reportar summary"
   ]
  },
  {
   "cell_type": "code",
   "execution_count": 10,
   "id": "0092a33e",
   "metadata": {},
   "outputs": [],
   "source": [
    "# Utilizar esta celda para reportar métricas"
   ]
  },
  {
   "cell_type": "markdown",
   "id": "bfa99b39",
   "metadata": {},
   "source": [
    "### Ejercicio 4: Dependencia Parcial\n",
    "- En base al mejor modelo, reporte el comportamiento de la dependencia parcial de cada atributo.\n",
    "- Para ello, genere una función que tenga como argumento de entrada el modelo estimado y devuelva una grilla con todos los gráficos de dependencia parcial."
   ]
  },
  {
   "cell_type": "code",
   "execution_count": 11,
   "id": "2c52973c",
   "metadata": {},
   "outputs": [],
   "source": [
    "# Utilizar esta celda para definir la función solicitada"
   ]
  },
  {
   "cell_type": "code",
   "execution_count": 12,
   "id": "76a068b9",
   "metadata": {},
   "outputs": [],
   "source": [
    "# Utilizar esta celda para realizar el llamado de la función"
   ]
  },
  {
   "cell_type": "markdown",
   "id": "e1872188",
   "metadata": {},
   "source": [
    "- Reporte brevemente sobre qué atributos están asociados a mayores y menores niveles de resistencia.\n",
    "\n",
    "**Respuesta:**"
   ]
  },
  {
   "cell_type": "code",
   "execution_count": null,
   "id": "3e6b3071",
   "metadata": {},
   "outputs": [],
   "source": []
  }
 ],
 "metadata": {
  "kernelspec": {
   "display_name": "Python 3 (ipykernel)",
   "language": "python",
   "name": "python3"
  },
  "language_info": {
   "codemirror_mode": {
    "name": "ipython",
    "version": 3
   },
   "file_extension": ".py",
   "mimetype": "text/x-python",
   "name": "python",
   "nbconvert_exporter": "python",
   "pygments_lexer": "ipython3",
   "version": "3.9.12"
  }
 },
 "nbformat": 4,
 "nbformat_minor": 5
}
